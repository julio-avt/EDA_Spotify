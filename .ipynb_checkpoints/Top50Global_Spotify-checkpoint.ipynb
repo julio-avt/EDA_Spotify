{
 "cells": [
  {
   "cell_type": "markdown",
   "metadata": {
    "tags": []
   },
   "source": [
    "# Proyecto final: \"Professional Data Science DEVF\"\n",
    "\n",
    "# Análisis exploratorio del top 50 Gobal más escuchado de Spotify\n",
    "## ¿Qué tienen de especial las canciones más escuchado en el mundo en Spotify?\n",
    "-----------------------------------------------\n",
    "#### *Por: Julio César Avila Torreblanca*"
   ]
  },
  {
   "cell_type": "markdown",
   "metadata": {},
   "source": [
    "#### Resumen:\n",
    "En este trabajo se realiza una conexión a la API de Spotify para obtener información sobre las canciones contenidas en una playlist (top 50 más escuchadas). Depués de ello se analiza la información extraida para realizar un estudio estadístico y obtener insights."
   ]
  },
  {
   "cell_type": "markdown",
   "metadata": {},
   "source": [
    "## Parte 1: Conexión a la API de Spotify y extracción de los datos."
   ]
  },
  {
   "cell_type": "markdown",
   "metadata": {},
   "source": [
    "La librería que usaremos para conectarnos a la API es *spotipy*."
   ]
  },
  {
   "cell_type": "code",
   "execution_count": 8,
   "metadata": {
    "colab": {
     "base_uri": "https://localhost:8080/"
    },
    "executionInfo": {
     "elapsed": 9100,
     "status": "ok",
     "timestamp": 1661646833497,
     "user": {
      "displayName": "Julio César Avila Torreblanca",
      "userId": "07499665002615210615"
     },
     "user_tz": 300
    },
    "id": "FrJpGXH_meDO",
    "outputId": "b6dc13c1-a0dc-4eb0-96d3-cd8a383d44da"
   },
   "outputs": [
    {
     "name": "stderr",
     "output_type": "stream",
     "text": [
      "\"pip\" no se reconoce como un comando interno o externo,\n",
      "programa o archivo por lotes ejecutable.\n"
     ]
    }
   ],
   "source": [
    "!pip install spotipy"
   ]
  },
  {
   "cell_type": "markdown",
   "metadata": {},
   "source": [
    "Importamos las librerías que necesitaremos a lo largo del proyecto."
   ]
  },
  {
   "cell_type": "code",
   "execution_count": 1,
   "metadata": {
    "executionInfo": {
     "elapsed": 253,
     "status": "ok",
     "timestamp": 1661648884328,
     "user": {
      "displayName": "Julio César Avila Torreblanca",
      "userId": "07499665002615210615"
     },
     "user_tz": 300
    },
    "id": "vGj3Pa3SmiTL"
   },
   "outputs": [],
   "source": [
    "# Conextion to the Spotify's API\n",
    "import spotipy\n",
    "from spotipy.oauth2 import SpotifyClientCredentials\n",
    "\n",
    "# Secrets Keys to stablish conection \n",
    "%store -r clientID\n",
    "%store -r clientSecretID\n",
    "\n",
    "# Data transformation and visualization\n",
    "import pandas as pd\n",
    "import matplotlib.pyplot as plt\n",
    "import matplotlib.mlab as mlab\n",
    "import matplotlib\n",
    "plt.style.use('ggplot')\n",
    "from matplotlib.pyplot import figure\n",
    "\n",
    "%matplotlib inline\n",
    "matplotlib.rcParams['figure.figsize'] = (12,8)\n",
    "\n",
    "import seaborn as sns\n",
    "\n",
    "pd.options.mode.chained_assignment = None\n",
    "\n",
    "import datetime\n",
    "\n",
    "pd.set_option('display.max_columns', None)"
   ]
  },
  {
   "cell_type": "markdown",
   "metadata": {},
   "source": [
    "Lo primero a realizar es obtener la informaición de la API de Spotify, para ello creamos la siguiente función la cual se conecta a la API y extrae la información solicitada. Los únicos parámetros a ser ingresados son las llaves para realizar la conexión y el link de la playlist que se quiera analizar."
   ]
  },
  {
   "cell_type": "code",
   "execution_count": 2,
   "metadata": {
    "executionInfo": {
     "elapsed": 274,
     "status": "ok",
     "timestamp": 1661651031985,
     "user": {
      "displayName": "Julio César Avila Torreblanca",
      "userId": "07499665002615210615"
     },
     "user_tz": 300
    },
    "id": "L1WPUdXWZlUN"
   },
   "outputs": [],
   "source": [
    "def extractDataTracks(playlist_link, clientID, clientSecretID):\n",
    "    \"\"\"\"This function connects to the Spotify API and extracts data\n",
    "    about songs in a playlist. \n",
    "\n",
    "    Args:\n",
    "        playlist_link (string): it's the link of the playlist. The playlist\n",
    "            must contains all the songs that will be analysed.\n",
    "        clientID (string): credendial requiared to connecto to the API.\n",
    "        clienSecretID (string): secret credendial requiared to connecto to the \n",
    "        API.\n",
    "    \n",
    "    Returns: list of dictionaries. Each dictionary is a register.\n",
    "    \"\"\"\n",
    "    # Authentication - without user\n",
    "    client_credentials_manager = SpotifyClientCredentials(\n",
    "        client_id=clientID, client_secret=clientSecretID)\n",
    "\n",
    "    sp = spotipy.Spotify(\n",
    "        client_credentials_manager = client_credentials_manager)\n",
    "\n",
    "    # Extrackting URI's Tracks From a Playlist. \n",
    "    playlist_URI = playlist_link.split(\"/\")[-1].split(\"?\")[0]\n",
    "    \n",
    "    track_uris = [ x[\"track\"][\"uri\"] for x in sp.playlist_tracks(playlist_URI)[\"items\"] ]\n",
    "    l=[]\n",
    "    \n",
    "    for track in sp.playlist_tracks(playlist_URI)[\"items\"]:\n",
    "        track_uri = track[\"track\"][\"uri\"]\n",
    "        dict1 = {\n",
    "            'id_track': track['track']['id'],\n",
    "            'popularity_track': track[\"track\"][\"popularity\"],\n",
    "            'name_track': track[\"track\"][\"name\"],\n",
    "            'release_date': track['track']['album']['release_date'],\n",
    "            'album': track[\"track\"][\"album\"][\"name\"],\n",
    "            'id_artist': track['track']['artists'][0]['id'],\n",
    "            'name_artist': track[\"track\"][\"artists\"][0][\"name\"]   \n",
    "            #'genre': sp.artist(track[\"artists\"][0][\"external_urls\"][\"spotify\"]['genres'])\n",
    "        }\n",
    "        dict2 = sp.audio_features(track_uri)[0]\n",
    "        dict3 = sp.artist(track['track']['artists'][0]['id'])\n",
    "        dict1 = dict1 | dict2 | dict3\n",
    "        l.append(dict1)\n",
    "\n",
    "    return l"
   ]
  },
  {
   "cell_type": "markdown",
   "metadata": {},
   "source": [
    "Ya que se tiene una función que permite conectarse a la API y extraer la información, la probamos con la playlist que queremos analizar: *Top 50 Glogabl*. Esta información la transformamos en un dataframe para reaizar el análisis."
   ]
  },
  {
   "cell_type": "code",
   "execution_count": 5,
   "metadata": {
    "colab": {
     "base_uri": "https://localhost:8080/"
    },
    "executionInfo": {
     "elapsed": 1826,
     "status": "ok",
     "timestamp": 1661651034576,
     "user": {
      "displayName": "Julio César Avila Torreblanca",
      "userId": "07499665002615210615"
     },
     "user_tz": 300
    },
    "id": "B8A29iuhZoU9",
    "outputId": "4a3e1973-556b-4ea0-e497-bfaf8f74a96b"
   },
   "outputs": [
    {
     "data": {
      "text/html": [
       "<div>\n",
       "<style scoped>\n",
       "    .dataframe tbody tr th:only-of-type {\n",
       "        vertical-align: middle;\n",
       "    }\n",
       "\n",
       "    .dataframe tbody tr th {\n",
       "        vertical-align: top;\n",
       "    }\n",
       "\n",
       "    .dataframe thead th {\n",
       "        text-align: right;\n",
       "    }\n",
       "</style>\n",
       "<table border=\"1\" class=\"dataframe\">\n",
       "  <thead>\n",
       "    <tr style=\"text-align: right;\">\n",
       "      <th></th>\n",
       "      <th>id_track</th>\n",
       "      <th>popularity_track</th>\n",
       "      <th>name_track</th>\n",
       "      <th>release_date</th>\n",
       "      <th>album</th>\n",
       "      <th>id_artist</th>\n",
       "      <th>name_artist</th>\n",
       "      <th>danceability</th>\n",
       "      <th>energy</th>\n",
       "      <th>key</th>\n",
       "      <th>loudness</th>\n",
       "      <th>mode</th>\n",
       "      <th>speechiness</th>\n",
       "      <th>acousticness</th>\n",
       "      <th>instrumentalness</th>\n",
       "      <th>liveness</th>\n",
       "      <th>valence</th>\n",
       "      <th>tempo</th>\n",
       "      <th>type</th>\n",
       "      <th>id</th>\n",
       "      <th>uri</th>\n",
       "      <th>track_href</th>\n",
       "      <th>analysis_url</th>\n",
       "      <th>duration_ms</th>\n",
       "      <th>time_signature</th>\n",
       "      <th>external_urls</th>\n",
       "      <th>followers</th>\n",
       "      <th>genres</th>\n",
       "      <th>href</th>\n",
       "      <th>images</th>\n",
       "      <th>name</th>\n",
       "      <th>popularity</th>\n",
       "    </tr>\n",
       "  </thead>\n",
       "  <tbody>\n",
       "    <tr>\n",
       "      <th>0</th>\n",
       "      <td>2tTmW7RDtMQtBk7m2rYeSw</td>\n",
       "      <td>100</td>\n",
       "      <td>Quevedo: Bzrp Music Sessions, Vol. 52</td>\n",
       "      <td>2022-07-06</td>\n",
       "      <td>Quevedo: Bzrp Music Sessions, Vol. 52</td>\n",
       "      <td>716NhGYqD1jl2wI1Qkgq36</td>\n",
       "      <td>Bizarrap</td>\n",
       "      <td>0.621</td>\n",
       "      <td>0.782</td>\n",
       "      <td>2</td>\n",
       "      <td>-5.548</td>\n",
       "      <td>1</td>\n",
       "      <td>0.0440</td>\n",
       "      <td>0.0125</td>\n",
       "      <td>0.033000</td>\n",
       "      <td>0.2300</td>\n",
       "      <td>0.550</td>\n",
       "      <td>128.033</td>\n",
       "      <td>artist</td>\n",
       "      <td>716NhGYqD1jl2wI1Qkgq36</td>\n",
       "      <td>spotify:artist:716NhGYqD1jl2wI1Qkgq36</td>\n",
       "      <td>https://api.spotify.com/v1/tracks/2tTmW7RDtMQt...</td>\n",
       "      <td>https://api.spotify.com/v1/audio-analysis/2tTm...</td>\n",
       "      <td>198938</td>\n",
       "      <td>4</td>\n",
       "      <td>{'spotify': 'https://open.spotify.com/artist/7...</td>\n",
       "      <td>{'href': None, 'total': 6737658}</td>\n",
       "      <td>[argentine hip hop, pop venezolano, trap argen...</td>\n",
       "      <td>https://api.spotify.com/v1/artists/716NhGYqD1j...</td>\n",
       "      <td>[{'height': 640, 'url': 'https://i.scdn.co/ima...</td>\n",
       "      <td>Bizarrap</td>\n",
       "      <td>87</td>\n",
       "    </tr>\n",
       "    <tr>\n",
       "      <th>1</th>\n",
       "      <td>4Dvkj6JhhA12EX05fT7y2e</td>\n",
       "      <td>93</td>\n",
       "      <td>As It Was</td>\n",
       "      <td>2022-05-20</td>\n",
       "      <td>Harry's House</td>\n",
       "      <td>6KImCVD70vtIoJWnq6nGn3</td>\n",
       "      <td>Harry Styles</td>\n",
       "      <td>0.520</td>\n",
       "      <td>0.731</td>\n",
       "      <td>6</td>\n",
       "      <td>-5.338</td>\n",
       "      <td>0</td>\n",
       "      <td>0.0557</td>\n",
       "      <td>0.3420</td>\n",
       "      <td>0.001010</td>\n",
       "      <td>0.3110</td>\n",
       "      <td>0.662</td>\n",
       "      <td>173.930</td>\n",
       "      <td>artist</td>\n",
       "      <td>6KImCVD70vtIoJWnq6nGn3</td>\n",
       "      <td>spotify:artist:6KImCVD70vtIoJWnq6nGn3</td>\n",
       "      <td>https://api.spotify.com/v1/tracks/4Dvkj6JhhA12...</td>\n",
       "      <td>https://api.spotify.com/v1/audio-analysis/4Dvk...</td>\n",
       "      <td>167303</td>\n",
       "      <td>4</td>\n",
       "      <td>{'spotify': 'https://open.spotify.com/artist/6...</td>\n",
       "      <td>{'href': None, 'total': 22986657}</td>\n",
       "      <td>[pop]</td>\n",
       "      <td>https://api.spotify.com/v1/artists/6KImCVD70vt...</td>\n",
       "      <td>[{'height': 640, 'url': 'https://i.scdn.co/ima...</td>\n",
       "      <td>Harry Styles</td>\n",
       "      <td>91</td>\n",
       "    </tr>\n",
       "    <tr>\n",
       "      <th>2</th>\n",
       "      <td>6Sq7ltF9Qa7SNFBsV5Cogx</td>\n",
       "      <td>98</td>\n",
       "      <td>Me Porto Bonito</td>\n",
       "      <td>2022-05-06</td>\n",
       "      <td>Un Verano Sin Ti</td>\n",
       "      <td>4q3ewBCX7sLwd24euuV69X</td>\n",
       "      <td>Bad Bunny</td>\n",
       "      <td>0.911</td>\n",
       "      <td>0.712</td>\n",
       "      <td>1</td>\n",
       "      <td>-5.105</td>\n",
       "      <td>0</td>\n",
       "      <td>0.0817</td>\n",
       "      <td>0.0901</td>\n",
       "      <td>0.000027</td>\n",
       "      <td>0.0933</td>\n",
       "      <td>0.425</td>\n",
       "      <td>92.005</td>\n",
       "      <td>artist</td>\n",
       "      <td>4q3ewBCX7sLwd24euuV69X</td>\n",
       "      <td>spotify:artist:4q3ewBCX7sLwd24euuV69X</td>\n",
       "      <td>https://api.spotify.com/v1/tracks/6Sq7ltF9Qa7S...</td>\n",
       "      <td>https://api.spotify.com/v1/audio-analysis/6Sq7...</td>\n",
       "      <td>178567</td>\n",
       "      <td>4</td>\n",
       "      <td>{'spotify': 'https://open.spotify.com/artist/4...</td>\n",
       "      <td>{'href': None, 'total': 54422842}</td>\n",
       "      <td>[latin, reggaeton, trap latino]</td>\n",
       "      <td>https://api.spotify.com/v1/artists/4q3ewBCX7sL...</td>\n",
       "      <td>[{'height': 640, 'url': 'https://i.scdn.co/ima...</td>\n",
       "      <td>Bad Bunny</td>\n",
       "      <td>100</td>\n",
       "    </tr>\n",
       "    <tr>\n",
       "      <th>3</th>\n",
       "      <td>1IHWl5LamUGEuP4ozKQSXZ</td>\n",
       "      <td>97</td>\n",
       "      <td>Tití Me Preguntó</td>\n",
       "      <td>2022-05-06</td>\n",
       "      <td>Un Verano Sin Ti</td>\n",
       "      <td>4q3ewBCX7sLwd24euuV69X</td>\n",
       "      <td>Bad Bunny</td>\n",
       "      <td>0.650</td>\n",
       "      <td>0.715</td>\n",
       "      <td>5</td>\n",
       "      <td>-5.198</td>\n",
       "      <td>0</td>\n",
       "      <td>0.2530</td>\n",
       "      <td>0.0993</td>\n",
       "      <td>0.000291</td>\n",
       "      <td>0.1260</td>\n",
       "      <td>0.187</td>\n",
       "      <td>106.672</td>\n",
       "      <td>artist</td>\n",
       "      <td>4q3ewBCX7sLwd24euuV69X</td>\n",
       "      <td>spotify:artist:4q3ewBCX7sLwd24euuV69X</td>\n",
       "      <td>https://api.spotify.com/v1/tracks/1IHWl5LamUGE...</td>\n",
       "      <td>https://api.spotify.com/v1/audio-analysis/1IHW...</td>\n",
       "      <td>243717</td>\n",
       "      <td>4</td>\n",
       "      <td>{'spotify': 'https://open.spotify.com/artist/4...</td>\n",
       "      <td>{'href': None, 'total': 54422842}</td>\n",
       "      <td>[latin, reggaeton, trap latino]</td>\n",
       "      <td>https://api.spotify.com/v1/artists/4q3ewBCX7sL...</td>\n",
       "      <td>[{'height': 640, 'url': 'https://i.scdn.co/ima...</td>\n",
       "      <td>Bad Bunny</td>\n",
       "      <td>100</td>\n",
       "    </tr>\n",
       "    <tr>\n",
       "      <th>4</th>\n",
       "      <td>0skYUMpS0AcbpjcGsAbRGj</td>\n",
       "      <td>91</td>\n",
       "      <td>Pink Venom</td>\n",
       "      <td>2022-08-19</td>\n",
       "      <td>Pink Venom</td>\n",
       "      <td>41MozSoPIsD1dJM0CLPjZF</td>\n",
       "      <td>BLACKPINK</td>\n",
       "      <td>0.798</td>\n",
       "      <td>0.697</td>\n",
       "      <td>0</td>\n",
       "      <td>-7.139</td>\n",
       "      <td>1</td>\n",
       "      <td>0.0891</td>\n",
       "      <td>0.0202</td>\n",
       "      <td>0.000000</td>\n",
       "      <td>0.2590</td>\n",
       "      <td>0.745</td>\n",
       "      <td>90.031</td>\n",
       "      <td>artist</td>\n",
       "      <td>41MozSoPIsD1dJM0CLPjZF</td>\n",
       "      <td>spotify:artist:41MozSoPIsD1dJM0CLPjZF</td>\n",
       "      <td>https://api.spotify.com/v1/tracks/0skYUMpS0Acb...</td>\n",
       "      <td>https://api.spotify.com/v1/audio-analysis/0skY...</td>\n",
       "      <td>186964</td>\n",
       "      <td>4</td>\n",
       "      <td>{'spotify': 'https://open.spotify.com/artist/4...</td>\n",
       "      <td>{'href': None, 'total': 32084519}</td>\n",
       "      <td>[k-pop, k-pop girl group]</td>\n",
       "      <td>https://api.spotify.com/v1/artists/41MozSoPIsD...</td>\n",
       "      <td>[{'height': 640, 'url': 'https://i.scdn.co/ima...</td>\n",
       "      <td>BLACKPINK</td>\n",
       "      <td>84</td>\n",
       "    </tr>\n",
       "  </tbody>\n",
       "</table>\n",
       "</div>"
      ],
      "text/plain": [
       "                 id_track  popularity_track  \\\n",
       "0  2tTmW7RDtMQtBk7m2rYeSw               100   \n",
       "1  4Dvkj6JhhA12EX05fT7y2e                93   \n",
       "2  6Sq7ltF9Qa7SNFBsV5Cogx                98   \n",
       "3  1IHWl5LamUGEuP4ozKQSXZ                97   \n",
       "4  0skYUMpS0AcbpjcGsAbRGj                91   \n",
       "\n",
       "                              name_track release_date  \\\n",
       "0  Quevedo: Bzrp Music Sessions, Vol. 52   2022-07-06   \n",
       "1                              As It Was   2022-05-20   \n",
       "2                        Me Porto Bonito   2022-05-06   \n",
       "3                       Tití Me Preguntó   2022-05-06   \n",
       "4                             Pink Venom   2022-08-19   \n",
       "\n",
       "                                   album               id_artist  \\\n",
       "0  Quevedo: Bzrp Music Sessions, Vol. 52  716NhGYqD1jl2wI1Qkgq36   \n",
       "1                          Harry's House  6KImCVD70vtIoJWnq6nGn3   \n",
       "2                       Un Verano Sin Ti  4q3ewBCX7sLwd24euuV69X   \n",
       "3                       Un Verano Sin Ti  4q3ewBCX7sLwd24euuV69X   \n",
       "4                             Pink Venom  41MozSoPIsD1dJM0CLPjZF   \n",
       "\n",
       "    name_artist  danceability  energy  key  loudness  mode  speechiness  \\\n",
       "0      Bizarrap         0.621   0.782    2    -5.548     1       0.0440   \n",
       "1  Harry Styles         0.520   0.731    6    -5.338     0       0.0557   \n",
       "2     Bad Bunny         0.911   0.712    1    -5.105     0       0.0817   \n",
       "3     Bad Bunny         0.650   0.715    5    -5.198     0       0.2530   \n",
       "4     BLACKPINK         0.798   0.697    0    -7.139     1       0.0891   \n",
       "\n",
       "   acousticness  instrumentalness  liveness  valence    tempo    type  \\\n",
       "0        0.0125          0.033000    0.2300    0.550  128.033  artist   \n",
       "1        0.3420          0.001010    0.3110    0.662  173.930  artist   \n",
       "2        0.0901          0.000027    0.0933    0.425   92.005  artist   \n",
       "3        0.0993          0.000291    0.1260    0.187  106.672  artist   \n",
       "4        0.0202          0.000000    0.2590    0.745   90.031  artist   \n",
       "\n",
       "                       id                                    uri  \\\n",
       "0  716NhGYqD1jl2wI1Qkgq36  spotify:artist:716NhGYqD1jl2wI1Qkgq36   \n",
       "1  6KImCVD70vtIoJWnq6nGn3  spotify:artist:6KImCVD70vtIoJWnq6nGn3   \n",
       "2  4q3ewBCX7sLwd24euuV69X  spotify:artist:4q3ewBCX7sLwd24euuV69X   \n",
       "3  4q3ewBCX7sLwd24euuV69X  spotify:artist:4q3ewBCX7sLwd24euuV69X   \n",
       "4  41MozSoPIsD1dJM0CLPjZF  spotify:artist:41MozSoPIsD1dJM0CLPjZF   \n",
       "\n",
       "                                          track_href  \\\n",
       "0  https://api.spotify.com/v1/tracks/2tTmW7RDtMQt...   \n",
       "1  https://api.spotify.com/v1/tracks/4Dvkj6JhhA12...   \n",
       "2  https://api.spotify.com/v1/tracks/6Sq7ltF9Qa7S...   \n",
       "3  https://api.spotify.com/v1/tracks/1IHWl5LamUGE...   \n",
       "4  https://api.spotify.com/v1/tracks/0skYUMpS0Acb...   \n",
       "\n",
       "                                        analysis_url  duration_ms  \\\n",
       "0  https://api.spotify.com/v1/audio-analysis/2tTm...       198938   \n",
       "1  https://api.spotify.com/v1/audio-analysis/4Dvk...       167303   \n",
       "2  https://api.spotify.com/v1/audio-analysis/6Sq7...       178567   \n",
       "3  https://api.spotify.com/v1/audio-analysis/1IHW...       243717   \n",
       "4  https://api.spotify.com/v1/audio-analysis/0skY...       186964   \n",
       "\n",
       "   time_signature                                      external_urls  \\\n",
       "0               4  {'spotify': 'https://open.spotify.com/artist/7...   \n",
       "1               4  {'spotify': 'https://open.spotify.com/artist/6...   \n",
       "2               4  {'spotify': 'https://open.spotify.com/artist/4...   \n",
       "3               4  {'spotify': 'https://open.spotify.com/artist/4...   \n",
       "4               4  {'spotify': 'https://open.spotify.com/artist/4...   \n",
       "\n",
       "                           followers  \\\n",
       "0   {'href': None, 'total': 6737658}   \n",
       "1  {'href': None, 'total': 22986657}   \n",
       "2  {'href': None, 'total': 54422842}   \n",
       "3  {'href': None, 'total': 54422842}   \n",
       "4  {'href': None, 'total': 32084519}   \n",
       "\n",
       "                                              genres  \\\n",
       "0  [argentine hip hop, pop venezolano, trap argen...   \n",
       "1                                              [pop]   \n",
       "2                    [latin, reggaeton, trap latino]   \n",
       "3                    [latin, reggaeton, trap latino]   \n",
       "4                          [k-pop, k-pop girl group]   \n",
       "\n",
       "                                                href  \\\n",
       "0  https://api.spotify.com/v1/artists/716NhGYqD1j...   \n",
       "1  https://api.spotify.com/v1/artists/6KImCVD70vt...   \n",
       "2  https://api.spotify.com/v1/artists/4q3ewBCX7sL...   \n",
       "3  https://api.spotify.com/v1/artists/4q3ewBCX7sL...   \n",
       "4  https://api.spotify.com/v1/artists/41MozSoPIsD...   \n",
       "\n",
       "                                              images          name  popularity  \n",
       "0  [{'height': 640, 'url': 'https://i.scdn.co/ima...      Bizarrap          87  \n",
       "1  [{'height': 640, 'url': 'https://i.scdn.co/ima...  Harry Styles          91  \n",
       "2  [{'height': 640, 'url': 'https://i.scdn.co/ima...     Bad Bunny         100  \n",
       "3  [{'height': 640, 'url': 'https://i.scdn.co/ima...     Bad Bunny         100  \n",
       "4  [{'height': 640, 'url': 'https://i.scdn.co/ima...     BLACKPINK          84  "
      ]
     },
     "execution_count": 5,
     "metadata": {},
     "output_type": "execute_result"
    }
   ],
   "source": [
    "# Data extraction\n",
    "playlist_link_BillieEilish = 'https://open.spotify.com/playlist/37i9dQZF1DZ06evO4hswvr?si=3dead096f1734786'\n",
    "playlist_link_Top50Mx = 'https://open.spotify.com/playlist/37i9dQZEVXbO3qyFxbkOE1?si=15e9481b4741495e'\n",
    "playlist_link_Top50Global = 'https://open.spotify.com/playlist/37i9dQZEVXbMDoHDwVN2tF?si=1367122882d04888'\n",
    "#vaguens = 'https://open.spotify.com/artist/0cE1FRPmspxRadK6z3zQb2?si=fe7ee670823640ad'\n",
    "data = extractDataTracks(playlist_link_Top50Global , clientID, clientSecretID)\n",
    "\n",
    "# Dataframe creation\n",
    "df1 = pd.DataFrame(data) # First dataframe to work\n",
    "df2 = pd.DataFrame(data) # Copy \n",
    "df1.head()"
   ]
  },
  {
   "cell_type": "markdown",
   "metadata": {},
   "source": [
    "Veamos qué tipo de variables tenemos y más información sobre el dataframe."
   ]
  },
  {
   "cell_type": "code",
   "execution_count": 6,
   "metadata": {
    "colab": {
     "base_uri": "https://localhost:8080/"
    },
    "executionInfo": {
     "elapsed": 252,
     "status": "ok",
     "timestamp": 1661649170256,
     "user": {
      "displayName": "Julio César Avila Torreblanca",
      "userId": "07499665002615210615"
     },
     "user_tz": 300
    },
    "id": "0bTUmkQlcqP9",
    "outputId": "cca1595c-3d71-4235-dc96-8a7b7fd3b8ee"
   },
   "outputs": [
    {
     "name": "stdout",
     "output_type": "stream",
     "text": [
      "<class 'pandas.core.frame.DataFrame'>\n",
      "RangeIndex: 50 entries, 0 to 49\n",
      "Data columns (total 32 columns):\n",
      " #   Column            Non-Null Count  Dtype  \n",
      "---  ------            --------------  -----  \n",
      " 0   id_track          50 non-null     object \n",
      " 1   popularity_track  50 non-null     int64  \n",
      " 2   name_track        50 non-null     object \n",
      " 3   release_date      50 non-null     object \n",
      " 4   album             50 non-null     object \n",
      " 5   id_artist         50 non-null     object \n",
      " 6   name_artist       50 non-null     object \n",
      " 7   danceability      50 non-null     float64\n",
      " 8   energy            50 non-null     float64\n",
      " 9   key               50 non-null     int64  \n",
      " 10  loudness          50 non-null     float64\n",
      " 11  mode              50 non-null     int64  \n",
      " 12  speechiness       50 non-null     float64\n",
      " 13  acousticness      50 non-null     float64\n",
      " 14  instrumentalness  50 non-null     float64\n",
      " 15  liveness          50 non-null     float64\n",
      " 16  valence           50 non-null     float64\n",
      " 17  tempo             50 non-null     float64\n",
      " 18  type              50 non-null     object \n",
      " 19  id                50 non-null     object \n",
      " 20  uri               50 non-null     object \n",
      " 21  track_href        50 non-null     object \n",
      " 22  analysis_url      50 non-null     object \n",
      " 23  duration_ms       50 non-null     int64  \n",
      " 24  time_signature    50 non-null     int64  \n",
      " 25  external_urls     50 non-null     object \n",
      " 26  followers         50 non-null     object \n",
      " 27  genres            50 non-null     object \n",
      " 28  href              50 non-null     object \n",
      " 29  images            50 non-null     object \n",
      " 30  name              50 non-null     object \n",
      " 31  popularity        50 non-null     int64  \n",
      "dtypes: float64(9), int64(6), object(17)\n",
      "memory usage: 12.6+ KB\n"
     ]
    }
   ],
   "source": [
    "df1.info()"
   ]
  },
  {
   "cell_type": "code",
   "execution_count": 7,
   "metadata": {},
   "outputs": [
    {
     "data": {
      "text/plain": [
       "(50, 32)"
      ]
     },
     "execution_count": 7,
     "metadata": {},
     "output_type": "execute_result"
    }
   ],
   "source": [
    "df1.shape"
   ]
  },
  {
   "cell_type": "code",
   "execution_count": 8,
   "metadata": {},
   "outputs": [
    {
     "data": {
      "text/plain": [
       "id_track            False\n",
       "popularity_track    False\n",
       "name_track          False\n",
       "release_date        False\n",
       "album               False\n",
       "id_artist           False\n",
       "name_artist         False\n",
       "danceability        False\n",
       "energy              False\n",
       "key                 False\n",
       "loudness            False\n",
       "mode                False\n",
       "speechiness         False\n",
       "acousticness        False\n",
       "instrumentalness    False\n",
       "liveness            False\n",
       "valence             False\n",
       "tempo               False\n",
       "type                False\n",
       "id                  False\n",
       "uri                 False\n",
       "track_href          False\n",
       "analysis_url        False\n",
       "duration_ms         False\n",
       "time_signature      False\n",
       "external_urls       False\n",
       "followers           False\n",
       "genres              False\n",
       "href                False\n",
       "images              False\n",
       "name                False\n",
       "popularity          False\n",
       "dtype: bool"
      ]
     },
     "execution_count": 8,
     "metadata": {},
     "output_type": "execute_result"
    }
   ],
   "source": [
    "df1.isnull().any()"
   ]
  },
  {
   "cell_type": "markdown",
   "metadata": {},
   "source": [
    "Vemos que tenemos en total 32 variables, algunas son cuantitativas y otras cualitativas. Además, el dataframe contiene 50 registros (50 canciones) y no se tienen datos vacios."
   ]
  },
  {
   "cell_type": "markdown",
   "metadata": {},
   "source": [
    "## Parte 2: Limpieza y ordenamiento de los datos"
   ]
  },
  {
   "cell_type": "markdown",
   "metadata": {},
   "source": [
    "Las tareas que realizaremos en esta parte son:\n",
    "\n",
    "- Renombrar las variables para un mejor manejo y entendimiento.\n",
    "- Cambiar la variable que contiene fecha a tipo *DateTime*.\n",
    "- Limpiar los valores de las variables: *followers* and *Popularity* (artist_popularity).\n",
    "- Hacer una copia del dataframe tomando solo las columnas que nos serán útiles."
   ]
  },
  {
   "cell_type": "code",
   "execution_count": 9,
   "metadata": {},
   "outputs": [
    {
     "data": {
      "text/plain": [
       "Index(['Id_track', 'Popularity_track', 'Name_track', 'Release_date', 'Album',\n",
       "       'Id_artist', 'Name_artist', 'Danceability', 'Energy', 'Key', 'Loudness',\n",
       "       'Mode', 'Speechiness', 'Acousticness', 'Instrumentalness', 'Liveness',\n",
       "       'Valence', 'Tempo', 'Type', 'Id', 'Uri', 'Track_href', 'Analysis_url',\n",
       "       'Duration_ms', 'Time_signature', 'External_urls', 'Followers', 'Genres',\n",
       "       'Href', 'Images', 'Name', 'Popularity'],\n",
       "      dtype='object')"
      ]
     },
     "execution_count": 9,
     "metadata": {},
     "output_type": "execute_result"
    }
   ],
   "source": [
    "# Capitalize column's names\n",
    "df1.columns = df1.columns.str.capitalize()\n",
    "df1.columns"
   ]
  },
  {
   "cell_type": "code",
   "execution_count": 10,
   "metadata": {},
   "outputs": [
    {
     "data": {
      "text/plain": [
       "Index(['Id_track', 'Popularity_track', 'Name_track', 'Release_date', 'Album',\n",
       "       'Id_artist', 'Name_artist', 'Danceability', 'Energy', 'Key', 'Loudness',\n",
       "       'Mode', 'Speechiness', 'Acousticness', 'Instrumentalness', 'Liveness',\n",
       "       'Valence', 'Tempo', 'Type', 'Id', 'Uri', 'Track_href', 'Analysis_url',\n",
       "       'Duration_ms', 'Time_signature', 'External_urls', 'Followers_artist',\n",
       "       'Genres_artist', 'Href', 'Images', 'Name', 'Popularity_artist'],\n",
       "      dtype='object')"
      ]
     },
     "execution_count": 10,
     "metadata": {},
     "output_type": "execute_result"
    }
   ],
   "source": [
    "# Rename some variables\n",
    "df1.rename(columns = {'Popularity': 'Popularity_artist', \n",
    "                     'Followers': 'Followers_artist', \n",
    "                     'Genres': 'Genres_artist'}, inplace = True)\n",
    "df1.columns"
   ]
  },
  {
   "cell_type": "code",
   "execution_count": 11,
   "metadata": {},
   "outputs": [
    {
     "data": {
      "text/plain": [
       "0    2022-07-06\n",
       "1    2022-05-20\n",
       "2    2022-05-06\n",
       "3    2022-05-06\n",
       "4    2022-08-19\n",
       "Name: Release_date, dtype: object"
      ]
     },
     "execution_count": 11,
     "metadata": {},
     "output_type": "execute_result"
    }
   ],
   "source": [
    "# Tansform Release_date into datetime\n",
    "df1['Release_date'] = pd.to_datetime(df1['Release_date']).dt.date\n",
    "df1['Release_date'].head()"
   ]
  },
  {
   "cell_type": "code",
   "execution_count": 14,
   "metadata": {
    "id": "95_YoTXtC40Q"
   },
   "outputs": [
    {
     "data": {
      "text/plain": [
       "0     6737658\n",
       "1    22986657\n",
       "2    54422842\n",
       "3    54422842\n",
       "4    32084519\n",
       "Name: Followers_artist, dtype: object"
      ]
     },
     "execution_count": 14,
     "metadata": {},
     "output_type": "execute_result"
    }
   ],
   "source": [
    "# Clean Followers_artist variable\n",
    "for x in range(df1.shape[0]):\n",
    "    df1['Followers_artist'][x] = df1['Followers_artist'][x]['total']\n",
    "df1['Followers_artist'].head()"
   ]
  },
  {
   "cell_type": "code",
   "execution_count": 15,
   "metadata": {
    "colab": {
     "base_uri": "https://localhost:8080/",
     "height": 478
    },
    "executionInfo": {
     "elapsed": 283,
     "status": "ok",
     "timestamp": 1661649881072,
     "user": {
      "displayName": "Julio César Avila Torreblanca",
      "userId": "07499665002615210615"
     },
     "user_tz": 300
    },
    "id": "eQx2CPfK_s0p",
    "outputId": "7df7a11f-2e21-41a6-cb4e-4d7aa93fb7c1"
   },
   "outputs": [
    {
     "data": {
      "text/html": [
       "<div>\n",
       "<style scoped>\n",
       "    .dataframe tbody tr th:only-of-type {\n",
       "        vertical-align: middle;\n",
       "    }\n",
       "\n",
       "    .dataframe tbody tr th {\n",
       "        vertical-align: top;\n",
       "    }\n",
       "\n",
       "    .dataframe thead th {\n",
       "        text-align: right;\n",
       "    }\n",
       "</style>\n",
       "<table border=\"1\" class=\"dataframe\">\n",
       "  <thead>\n",
       "    <tr style=\"text-align: right;\">\n",
       "      <th></th>\n",
       "      <th>Name_track</th>\n",
       "      <th>Name_artist</th>\n",
       "      <th>Album</th>\n",
       "      <th>Release_date</th>\n",
       "      <th>Popularity_track</th>\n",
       "      <th>Genres_artist</th>\n",
       "      <th>Popularity_artist</th>\n",
       "      <th>Followers_artist</th>\n",
       "      <th>Danceability</th>\n",
       "      <th>Energy</th>\n",
       "      <th>Key</th>\n",
       "      <th>Loudness</th>\n",
       "      <th>Mode</th>\n",
       "      <th>Speechiness</th>\n",
       "      <th>Instrumentalness</th>\n",
       "      <th>Liveness</th>\n",
       "      <th>Valence</th>\n",
       "      <th>Tempo</th>\n",
       "      <th>Type</th>\n",
       "      <th>Duration_ms</th>\n",
       "      <th>Time_signature</th>\n",
       "    </tr>\n",
       "  </thead>\n",
       "  <tbody>\n",
       "    <tr>\n",
       "      <th>0</th>\n",
       "      <td>Quevedo: Bzrp Music Sessions, Vol. 52</td>\n",
       "      <td>Bizarrap</td>\n",
       "      <td>Quevedo: Bzrp Music Sessions, Vol. 52</td>\n",
       "      <td>2022-07-06</td>\n",
       "      <td>100</td>\n",
       "      <td>[argentine hip hop, pop venezolano, trap argen...</td>\n",
       "      <td>87</td>\n",
       "      <td>6737658</td>\n",
       "      <td>0.621</td>\n",
       "      <td>0.782</td>\n",
       "      <td>2</td>\n",
       "      <td>-5.548</td>\n",
       "      <td>1</td>\n",
       "      <td>0.0440</td>\n",
       "      <td>0.033000</td>\n",
       "      <td>0.2300</td>\n",
       "      <td>0.550</td>\n",
       "      <td>128.033</td>\n",
       "      <td>artist</td>\n",
       "      <td>198938</td>\n",
       "      <td>4</td>\n",
       "    </tr>\n",
       "    <tr>\n",
       "      <th>1</th>\n",
       "      <td>As It Was</td>\n",
       "      <td>Harry Styles</td>\n",
       "      <td>Harry's House</td>\n",
       "      <td>2022-05-20</td>\n",
       "      <td>93</td>\n",
       "      <td>[pop]</td>\n",
       "      <td>91</td>\n",
       "      <td>22986657</td>\n",
       "      <td>0.520</td>\n",
       "      <td>0.731</td>\n",
       "      <td>6</td>\n",
       "      <td>-5.338</td>\n",
       "      <td>0</td>\n",
       "      <td>0.0557</td>\n",
       "      <td>0.001010</td>\n",
       "      <td>0.3110</td>\n",
       "      <td>0.662</td>\n",
       "      <td>173.930</td>\n",
       "      <td>artist</td>\n",
       "      <td>167303</td>\n",
       "      <td>4</td>\n",
       "    </tr>\n",
       "    <tr>\n",
       "      <th>2</th>\n",
       "      <td>Me Porto Bonito</td>\n",
       "      <td>Bad Bunny</td>\n",
       "      <td>Un Verano Sin Ti</td>\n",
       "      <td>2022-05-06</td>\n",
       "      <td>98</td>\n",
       "      <td>[latin, reggaeton, trap latino]</td>\n",
       "      <td>100</td>\n",
       "      <td>54422842</td>\n",
       "      <td>0.911</td>\n",
       "      <td>0.712</td>\n",
       "      <td>1</td>\n",
       "      <td>-5.105</td>\n",
       "      <td>0</td>\n",
       "      <td>0.0817</td>\n",
       "      <td>0.000027</td>\n",
       "      <td>0.0933</td>\n",
       "      <td>0.425</td>\n",
       "      <td>92.005</td>\n",
       "      <td>artist</td>\n",
       "      <td>178567</td>\n",
       "      <td>4</td>\n",
       "    </tr>\n",
       "    <tr>\n",
       "      <th>3</th>\n",
       "      <td>Tití Me Preguntó</td>\n",
       "      <td>Bad Bunny</td>\n",
       "      <td>Un Verano Sin Ti</td>\n",
       "      <td>2022-05-06</td>\n",
       "      <td>97</td>\n",
       "      <td>[latin, reggaeton, trap latino]</td>\n",
       "      <td>100</td>\n",
       "      <td>54422842</td>\n",
       "      <td>0.650</td>\n",
       "      <td>0.715</td>\n",
       "      <td>5</td>\n",
       "      <td>-5.198</td>\n",
       "      <td>0</td>\n",
       "      <td>0.2530</td>\n",
       "      <td>0.000291</td>\n",
       "      <td>0.1260</td>\n",
       "      <td>0.187</td>\n",
       "      <td>106.672</td>\n",
       "      <td>artist</td>\n",
       "      <td>243717</td>\n",
       "      <td>4</td>\n",
       "    </tr>\n",
       "    <tr>\n",
       "      <th>4</th>\n",
       "      <td>Pink Venom</td>\n",
       "      <td>BLACKPINK</td>\n",
       "      <td>Pink Venom</td>\n",
       "      <td>2022-08-19</td>\n",
       "      <td>91</td>\n",
       "      <td>[k-pop, k-pop girl group]</td>\n",
       "      <td>84</td>\n",
       "      <td>32084519</td>\n",
       "      <td>0.798</td>\n",
       "      <td>0.697</td>\n",
       "      <td>0</td>\n",
       "      <td>-7.139</td>\n",
       "      <td>1</td>\n",
       "      <td>0.0891</td>\n",
       "      <td>0.000000</td>\n",
       "      <td>0.2590</td>\n",
       "      <td>0.745</td>\n",
       "      <td>90.031</td>\n",
       "      <td>artist</td>\n",
       "      <td>186964</td>\n",
       "      <td>4</td>\n",
       "    </tr>\n",
       "  </tbody>\n",
       "</table>\n",
       "</div>"
      ],
      "text/plain": [
       "                              Name_track   Name_artist  \\\n",
       "0  Quevedo: Bzrp Music Sessions, Vol. 52      Bizarrap   \n",
       "1                              As It Was  Harry Styles   \n",
       "2                        Me Porto Bonito     Bad Bunny   \n",
       "3                       Tití Me Preguntó     Bad Bunny   \n",
       "4                             Pink Venom     BLACKPINK   \n",
       "\n",
       "                                   Album Release_date  Popularity_track  \\\n",
       "0  Quevedo: Bzrp Music Sessions, Vol. 52   2022-07-06               100   \n",
       "1                          Harry's House   2022-05-20                93   \n",
       "2                       Un Verano Sin Ti   2022-05-06                98   \n",
       "3                       Un Verano Sin Ti   2022-05-06                97   \n",
       "4                             Pink Venom   2022-08-19                91   \n",
       "\n",
       "                                       Genres_artist  Popularity_artist  \\\n",
       "0  [argentine hip hop, pop venezolano, trap argen...                 87   \n",
       "1                                              [pop]                 91   \n",
       "2                    [latin, reggaeton, trap latino]                100   \n",
       "3                    [latin, reggaeton, trap latino]                100   \n",
       "4                          [k-pop, k-pop girl group]                 84   \n",
       "\n",
       "  Followers_artist  Danceability  Energy  Key  Loudness  Mode  Speechiness  \\\n",
       "0          6737658         0.621   0.782    2    -5.548     1       0.0440   \n",
       "1         22986657         0.520   0.731    6    -5.338     0       0.0557   \n",
       "2         54422842         0.911   0.712    1    -5.105     0       0.0817   \n",
       "3         54422842         0.650   0.715    5    -5.198     0       0.2530   \n",
       "4         32084519         0.798   0.697    0    -7.139     1       0.0891   \n",
       "\n",
       "   Instrumentalness  Liveness  Valence    Tempo    Type  Duration_ms  \\\n",
       "0          0.033000    0.2300    0.550  128.033  artist       198938   \n",
       "1          0.001010    0.3110    0.662  173.930  artist       167303   \n",
       "2          0.000027    0.0933    0.425   92.005  artist       178567   \n",
       "3          0.000291    0.1260    0.187  106.672  artist       243717   \n",
       "4          0.000000    0.2590    0.745   90.031  artist       186964   \n",
       "\n",
       "   Time_signature  \n",
       "0               4  \n",
       "1               4  \n",
       "2               4  \n",
       "3               4  \n",
       "4               4  "
      ]
     },
     "execution_count": 15,
     "metadata": {},
     "output_type": "execute_result"
    }
   ],
   "source": [
    "# Copy impoortant columns\n",
    "important_columns = ['Name_track',\n",
    "                    'Name_artist',\n",
    "                    'Album',\n",
    "                    'Release_date',\n",
    "                    'Popularity_track',\n",
    "                    'Genres_artist',\n",
    "                    'Popularity_artist',\n",
    "                     'Followers_artist',\n",
    "                    'Danceability',\n",
    "                    'Energy',\n",
    "                    'Key',\n",
    "                    'Loudness',\n",
    "                    'Mode',\n",
    "                    'Speechiness',\n",
    "                    'Instrumentalness',\n",
    "                    'Liveness',\n",
    "                    'Valence',\n",
    "                    'Tempo',\n",
    "                    'Type',\n",
    "                    'Duration_ms',\n",
    "                    'Time_signature']\n",
    "                    \n",
    "    \n",
    "df_imp = df1[important_columns].copy()\n",
    "df_imp.head()"
   ]
  },
  {
   "cell_type": "markdown",
   "metadata": {},
   "source": [
    "## Parte 3: Exploración de los datos"
   ]
  },
  {
   "cell_type": "markdown",
   "metadata": {},
   "source": [
    "#### Canciones más populares\n",
    "Veamos las 5 canciones más populares y los artistas correspondientes. Para ello ordenaremos las canciones por *Popularity_track*."
   ]
  },
  {
   "cell_type": "code",
   "execution_count": 31,
   "metadata": {},
   "outputs": [
    {
     "data": {
      "text/html": [
       "<div>\n",
       "<style scoped>\n",
       "    .dataframe tbody tr th:only-of-type {\n",
       "        vertical-align: middle;\n",
       "    }\n",
       "\n",
       "    .dataframe tbody tr th {\n",
       "        vertical-align: top;\n",
       "    }\n",
       "\n",
       "    .dataframe thead th {\n",
       "        text-align: right;\n",
       "    }\n",
       "</style>\n",
       "<table border=\"1\" class=\"dataframe\">\n",
       "  <thead>\n",
       "    <tr style=\"text-align: right;\">\n",
       "      <th></th>\n",
       "      <th>Name_track</th>\n",
       "      <th>Name_artist</th>\n",
       "      <th>Popularity_track</th>\n",
       "    </tr>\n",
       "  </thead>\n",
       "  <tbody>\n",
       "    <tr>\n",
       "      <th>0</th>\n",
       "      <td>Quevedo: Bzrp Music Sessions, Vol. 52</td>\n",
       "      <td>Bizarrap</td>\n",
       "      <td>100</td>\n",
       "    </tr>\n",
       "    <tr>\n",
       "      <th>2</th>\n",
       "      <td>Me Porto Bonito</td>\n",
       "      <td>Bad Bunny</td>\n",
       "      <td>98</td>\n",
       "    </tr>\n",
       "    <tr>\n",
       "      <th>3</th>\n",
       "      <td>Tití Me Preguntó</td>\n",
       "      <td>Bad Bunny</td>\n",
       "      <td>97</td>\n",
       "    </tr>\n",
       "    <tr>\n",
       "      <th>7</th>\n",
       "      <td>Efecto</td>\n",
       "      <td>Bad Bunny</td>\n",
       "      <td>96</td>\n",
       "    </tr>\n",
       "    <tr>\n",
       "      <th>11</th>\n",
       "      <td>Ojitos Lindos</td>\n",
       "      <td>Bad Bunny</td>\n",
       "      <td>96</td>\n",
       "    </tr>\n",
       "    <tr>\n",
       "      <th>14</th>\n",
       "      <td>Glimpse of Us</td>\n",
       "      <td>Joji</td>\n",
       "      <td>96</td>\n",
       "    </tr>\n",
       "    <tr>\n",
       "      <th>5</th>\n",
       "      <td>DESPECHÁ</td>\n",
       "      <td>ROSALÍA</td>\n",
       "      <td>96</td>\n",
       "    </tr>\n",
       "    <tr>\n",
       "      <th>6</th>\n",
       "      <td>La Bachata</td>\n",
       "      <td>Manuel Turizo</td>\n",
       "      <td>95</td>\n",
       "    </tr>\n",
       "    <tr>\n",
       "      <th>16</th>\n",
       "      <td>Moscow Mule</td>\n",
       "      <td>Bad Bunny</td>\n",
       "      <td>95</td>\n",
       "    </tr>\n",
       "    <tr>\n",
       "      <th>20</th>\n",
       "      <td>Left and Right (Feat. Jung Kook of BTS)</td>\n",
       "      <td>Charlie Puth</td>\n",
       "      <td>94</td>\n",
       "    </tr>\n",
       "  </tbody>\n",
       "</table>\n",
       "</div>"
      ],
      "text/plain": [
       "                                 Name_track    Name_artist  Popularity_track\n",
       "0     Quevedo: Bzrp Music Sessions, Vol. 52       Bizarrap               100\n",
       "2                           Me Porto Bonito      Bad Bunny                98\n",
       "3                          Tití Me Preguntó      Bad Bunny                97\n",
       "7                                    Efecto      Bad Bunny                96\n",
       "11                            Ojitos Lindos      Bad Bunny                96\n",
       "14                            Glimpse of Us           Joji                96\n",
       "5                                  DESPECHÁ        ROSALÍA                96\n",
       "6                                La Bachata  Manuel Turizo                95\n",
       "16                              Moscow Mule      Bad Bunny                95\n",
       "20  Left and Right (Feat. Jung Kook of BTS)   Charlie Puth                94"
      ]
     },
     "execution_count": 31,
     "metadata": {},
     "output_type": "execute_result"
    }
   ],
   "source": [
    "sort_pop = df_imp.sort_values(by='Popularity_track', ascending=False)\n",
    "sort_pop.loc[:, ['Name_track','Name_artist','Popularity_track']].head(10)"
   ]
  },
  {
   "cell_type": "code",
   "execution_count": 32,
   "metadata": {},
   "outputs": [
    {
     "data": {
      "text/plain": [
       "array([[<AxesSubplot:title={'center':'Popularity_track'}>,\n",
       "        <AxesSubplot:title={'center':'Popularity_artist'}>,\n",
       "        <AxesSubplot:title={'center':'Danceability'}>,\n",
       "        <AxesSubplot:title={'center':'Energy'}>],\n",
       "       [<AxesSubplot:title={'center':'Key'}>,\n",
       "        <AxesSubplot:title={'center':'Loudness'}>,\n",
       "        <AxesSubplot:title={'center':'Mode'}>,\n",
       "        <AxesSubplot:title={'center':'Speechiness'}>],\n",
       "       [<AxesSubplot:title={'center':'Instrumentalness'}>,\n",
       "        <AxesSubplot:title={'center':'Liveness'}>,\n",
       "        <AxesSubplot:title={'center':'Valence'}>,\n",
       "        <AxesSubplot:title={'center':'Tempo'}>],\n",
       "       [<AxesSubplot:title={'center':'Duration_ms'}>,\n",
       "        <AxesSubplot:title={'center':'Time_signature'}>, <AxesSubplot:>,\n",
       "        <AxesSubplot:>]], dtype=object)"
      ]
     },
     "execution_count": 32,
     "metadata": {},
     "output_type": "execute_result"
    },
    {
     "data": {
      "image/png": "[encoded data removed]",
      "text/plain": [
       "<Figure size 864x576 with 16 Axes>"
      ]
     },
     "metadata": {
      "needs_background": "light"
     },
     "output_type": "display_data"
    }
   ],
   "source": [
    "sort_pop.hist()"
   ]
  },
  {
   "cell_type": "markdown",
   "metadata": {},
   "source": [
    "Se aprecia que la canción más popular corresponde al artista Bizarrap con popularidad de 100"
   ]
  },
  {
   "cell_type": "markdown",
   "metadata": {},
   "source": [
    "Veamos que artista contiene más canciones en el top 100."
   ]
  },
  {
   "cell_type": "code",
   "execution_count": 16,
   "metadata": {},
   "outputs": [
    {
     "data": {
      "text/html": [
       "<div>\n",
       "<style scoped>\n",
       "    .dataframe tbody tr th:only-of-type {\n",
       "        vertical-align: middle;\n",
       "    }\n",
       "\n",
       "    .dataframe tbody tr th {\n",
       "        vertical-align: top;\n",
       "    }\n",
       "\n",
       "    .dataframe thead th {\n",
       "        text-align: right;\n",
       "    }\n",
       "</style>\n",
       "<table border=\"1\" class=\"dataframe\">\n",
       "  <thead>\n",
       "    <tr style=\"text-align: right;\">\n",
       "      <th></th>\n",
       "      <th>Name_artist</th>\n",
       "      <th>N_appearences</th>\n",
       "    </tr>\n",
       "  </thead>\n",
       "  <tbody>\n",
       "    <tr>\n",
       "      <th>2</th>\n",
       "      <td>Bad Bunny</td>\n",
       "      <td>8</td>\n",
       "    </tr>\n",
       "    <tr>\n",
       "      <th>11</th>\n",
       "      <td>Elton John</td>\n",
       "      <td>2</td>\n",
       "    </tr>\n",
       "    <tr>\n",
       "      <th>14</th>\n",
       "      <td>Harry Styles</td>\n",
       "      <td>2</td>\n",
       "    </tr>\n",
       "    <tr>\n",
       "      <th>19</th>\n",
       "      <td>KAROL G</td>\n",
       "      <td>2</td>\n",
       "    </tr>\n",
       "    <tr>\n",
       "      <th>37</th>\n",
       "      <td>The Weeknd</td>\n",
       "      <td>2</td>\n",
       "    </tr>\n",
       "  </tbody>\n",
       "</table>\n",
       "</div>"
      ],
      "text/plain": [
       "     Name_artist  N_appearences\n",
       "2      Bad Bunny              8\n",
       "11    Elton John              2\n",
       "14  Harry Styles              2\n",
       "19       KAROL G              2\n",
       "37    The Weeknd              2"
      ]
     },
     "execution_count": 16,
     "metadata": {},
     "output_type": "execute_result"
    }
   ],
   "source": [
    "# A group by and a filter are applied\n",
    "top_artists = df_imp.groupby(['Name_artist'])['Name_artist'].count().reset_index(name='N_appearences')\n",
    "top_artists = top_artists[top_artists['N_appearences'] > 1]\n",
    "top_artists"
   ]
  },
  {
   "cell_type": "code",
   "execution_count": 17,
   "metadata": {},
   "outputs": [
    {
     "data": {
      "text/html": [
       "<div>\n",
       "<style scoped>\n",
       "    .dataframe tbody tr th:only-of-type {\n",
       "        vertical-align: middle;\n",
       "    }\n",
       "\n",
       "    .dataframe tbody tr th {\n",
       "        vertical-align: top;\n",
       "    }\n",
       "\n",
       "    .dataframe thead th {\n",
       "        text-align: right;\n",
       "    }\n",
       "</style>\n",
       "<table border=\"1\" class=\"dataframe\">\n",
       "  <thead>\n",
       "    <tr style=\"text-align: right;\">\n",
       "      <th></th>\n",
       "      <th>Name_artist</th>\n",
       "      <th>N_appearences</th>\n",
       "    </tr>\n",
       "  </thead>\n",
       "  <tbody>\n",
       "    <tr>\n",
       "      <th>11</th>\n",
       "      <td>Elton John</td>\n",
       "      <td>2</td>\n",
       "    </tr>\n",
       "    <tr>\n",
       "      <th>14</th>\n",
       "      <td>Harry Styles</td>\n",
       "      <td>2</td>\n",
       "    </tr>\n",
       "    <tr>\n",
       "      <th>19</th>\n",
       "      <td>KAROL G</td>\n",
       "      <td>2</td>\n",
       "    </tr>\n",
       "    <tr>\n",
       "      <th>37</th>\n",
       "      <td>The Weeknd</td>\n",
       "      <td>2</td>\n",
       "    </tr>\n",
       "    <tr>\n",
       "      <th>2</th>\n",
       "      <td>Bad Bunny</td>\n",
       "      <td>8</td>\n",
       "    </tr>\n",
       "  </tbody>\n",
       "</table>\n",
       "</div>"
      ],
      "text/plain": [
       "     Name_artist  N_appearences\n",
       "11    Elton John              2\n",
       "14  Harry Styles              2\n",
       "19       KAROL G              2\n",
       "37    The Weeknd              2\n",
       "2      Bad Bunny              8"
      ]
     },
     "execution_count": 17,
     "metadata": {},
     "output_type": "execute_result"
    }
   ],
   "source": [
    "# Sorting the data\n",
    "sorted_top_artists = top_artists.sort_values(by='N_appearences', ascending=True)\n",
    "sorted_top_artists"
   ]
  },
  {
   "cell_type": "code",
   "execution_count": 18,
   "metadata": {
    "tags": []
   },
   "outputs": [
    {
     "data": {
      "text/plain": [
       "Text(0.5, 0, 'Number of appearences')"
      ]
     },
     "execution_count": 18,
     "metadata": {},
     "output_type": "execute_result"
    },
    {
     "data": {
      "image/png": "[encoded data removed]",
      "text/plain": [
       "<Figure size 864x576 with 1 Axes>"
      ]
     },
     "metadata": {
      "needs_background": "light"
     },
     "output_type": "display_data"
    }
   ],
   "source": [
    "# Create a bar chart to visualize\n",
    "plt.barh('Name_artist', \n",
    "         'N_appearences',\n",
    "         data=sorted_top_artists,\n",
    "         color=sns.color_palette('pastel'))\n",
    "plt.title('Top Global Artists 2022 in Spotify', size=22)\n",
    "plt.ylabel('Artist', size=18)\n",
    "plt.xlabel('Number of appearences')"
   ]
  },
  {
   "cell_type": "code",
   "execution_count": null,
   "metadata": {},
   "outputs": [],
   "source": []
  },
  {
   "cell_type": "code",
   "execution_count": null,
   "metadata": {},
   "outputs": [],
   "source": []
  }
 ],
 "metadata": {
  "colab": {
   "authorship_tag": "ABX9TyOaV/J5i2oAszaQ7ESy33/H",
   "name": "API_Spotify.ipynb",
   "provenance": []
  },
  "kernelspec": {
   "display_name": "Python 3 (ipykernel)",
   "language": "python",
   "name": "python3"
  },
  "language_info": {
   "codemirror_mode": {
    "name": "ipython",
    "version": 3
   },
   "file_extension": ".py",
   "mimetype": "text/x-python",
   "name": "python",
   "nbconvert_exporter": "python",
   "pygments_lexer": "ipython3",
   "version": "3.9.6"
  }
 },
 "nbformat": 4,
 "nbformat_minor": 4
}
