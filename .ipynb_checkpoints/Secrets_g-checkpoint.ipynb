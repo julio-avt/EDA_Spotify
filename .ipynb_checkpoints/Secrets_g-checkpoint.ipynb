{
 "cells": [
  {
   "cell_type": "code",
   "execution_count": 2,
   "id": "8c756a23-4786-4240-893b-2efd98d8e71b",
   "metadata": {
    "tags": []
   },
   "outputs": [],
   "source": [
    "# Secrets Keys to stablish conection \n",
    "clientID = 'f14262d671a34fe284e39287566169dc'\n",
    "clientSecretID = '4fa209b07f8d43169735dbe7df6602ed'"
   ]
  },
  {
   "cell_type": "code",
   "execution_count": 3,
   "id": "2504e1a0-d559-4e2f-afb8-2362d9fb5d66",
   "metadata": {},
   "outputs": [
    {
     "name": "stdout",
     "output_type": "stream",
     "text": [
      "Stored 'clientID' (str)\n",
      "Stored 'clientSecretID' (str)\n"
     ]
    }
   ],
   "source": [
    "%store clientID\n",
    "%store clientSecretID"
   ]
  },
  {
   "cell_type": "code",
   "execution_count": null,
   "id": "a31f147d-47f4-429b-bca3-cd638f61b977",
   "metadata": {},
   "outputs": [],
   "source": []
  }
 ],
 "metadata": {
  "kernelspec": {
   "display_name": "Python 3 (ipykernel)",
   "language": "python",
   "name": "python3"
  },
  "language_info": {
   "codemirror_mode": {
    "name": "ipython",
    "version": 3
   },
   "file_extension": ".py",
   "mimetype": "text/x-python",
   "name": "python",
   "nbconvert_exporter": "python",
   "pygments_lexer": "ipython3",
   "version": "3.9.6"
  }
 },
 "nbformat": 4,
 "nbformat_minor": 5
}
